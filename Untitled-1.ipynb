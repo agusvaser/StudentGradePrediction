{
 "cells": [
  {
   "cell_type": "code",
   "execution_count": 80,
   "metadata": {},
   "outputs": [],
   "source": [
    "import pandas as pd\n",
    "import matplotlib.pyplot as plt\n",
    "import altair as alt\n",
    "import numpy as np\n",
    "import seaborn as sns"
   ]
  },
  {
   "cell_type": "code",
   "execution_count": 81,
   "metadata": {},
   "outputs": [],
   "source": [
    "data = pd.read_csv(\"students.csv\")\n",
    "data = pd.DataFrame(data)"
   ]
  },
  {
   "cell_type": "code",
   "execution_count": null,
   "metadata": {},
   "outputs": [],
   "source": [
    "features = data.columns\n",
    "num_list = [\"age\",\"Medu\",\"Fedu\",\"traveltime\",\"studytime\",\"failures_mat\",\"failures_por\",\"famrel\",\"freetime\",\"goout\",\"Dalc\",\"Walc\",\"health\",\"absences_mat\",\"absences_por\",'G1_mat','G2_mat','G3_mat','G1_por','G2_por','G3_por']\n",
    "cualitativas =  [feature for feature in features if feature not in num_list]\n",
    "print(cualitativas)"
   ]
  },
  {
   "cell_type": "code",
   "execution_count": null,
   "metadata": {},
   "outputs": [],
   "source": [
    "np.arange(data[\"age\"].min() - 0.5, data[\"age\"].max() + 0.5, 1).tolist()\n"
   ]
  },
  {
   "cell_type": "code",
   "execution_count": null,
   "metadata": {},
   "outputs": [],
   "source": [
    "\n",
    "# Analisis de las variables cuantitativas\n",
    "\n",
    "for feature in features:\n",
    "    if feature in num_list:\n",
    "\n",
    "        # Datos\n",
    "        rango = (data[feature].min(),data[feature].max())\n",
    "        media = data[feature].mean()\n",
    "        mediana = data[feature].median()\n",
    "        desvio = data[feature].std()\n",
    "        coef_de_asimetria = data[feature].skew()\n",
    "        cuantil_025 = data[feature].quantile(0.25)\n",
    "        cuantil_075 = data[feature].quantile(0.75)\n",
    "        print(\"\"\"Datos de la variable {}: \n",
    "        Rango = {}\n",
    "        Media = {}\n",
    "        Mediana = {}\n",
    "        Desvio estandar = {}\n",
    "        Coeficiente de asimetria = {}\n",
    "        Cuartiles = {} , {}\n",
    "        \"\"\".format(feature,rango,media,mediana,desvio,coef_de_asimetria,cuantil_025,cuantil_075))\n",
    "\n",
    "        # Graficos\n",
    "        # Al hacer un breve analisis del dataset descubrimos que todas nuestras variables numericas son discretetas, por lo tanto\n",
    "        # nos parecio mas enrriquecedor realizar histogramas en vez de graficos de densidad.\n",
    "        sns.histplot(data=data, x=feature, bins = np.arange(data[feature].min() - 0.5, data[feature].max() + 0.5, 1).tolist(), kde=False, color='skyblue')\n",
    "        plt.title(f'Histogram for {feature}')\n",
    "        plt.xlabel(feature)\n",
    "        plt.ylabel('Frequency')\n",
    "        plt.show()\n",
    "\n",
    "        # Boxplots\n",
    "        sns.boxplot(x=data[feature], color='skyblue')\n",
    "        plt.title(f'Boxplot for {feature}')\n",
    "        plt.xlabel(feature)\n",
    "        plt.show()\n",
    "\n",
    "        # Outliers analisis post boxplot\n",
    "\n",
    "        Q1 = data[feature].quantile(0.25)\n",
    "        Q3 = data[feature].quantile(0.75)\n",
    "        IQR = Q3 - Q1\n",
    "        lower_bound = Q1 - 1.5 * IQR\n",
    "        upper_bound = Q3 + 1.5 * IQR\n",
    "        outliers = data[(data[feature] < lower_bound) | (data[feature] > upper_bound)]\n",
    "        if len(outliers) > 0:\n",
    "            absolute_freq_table = outliers[feature].value_counts().to_frame().rename_axis('Value').reset_index()\n",
    "            absolute_freq_table.columns = ['Value', 'Frequency']\n",
    "            print(absolute_freq_table.sort_values(by='Value'))\n",
    "        else:\n",
    "            print(\"No outliers detected.\")\n",
    "\n",
    "\n",
    "        print(\"\\n\\n\")\n",
    "\n",
    "        \n",
    "\n"
   ]
  },
  {
   "cell_type": "code",
   "execution_count": null,
   "metadata": {},
   "outputs": [],
   "source": [
    "for feature in features:\n",
    "    if feature not in num_list:\n",
    "        sns.countplot(data=data, x=feature, palette='Blues')\n",
    "        plt.title(f'Frequency Chart for {feature}')\n",
    "        plt.xlabel(feature)\n",
    "        plt.ylabel('Frequency')\n",
    "        plt.show()"
   ]
  },
  {
   "cell_type": "code",
   "execution_count": 86,
   "metadata": {},
   "outputs": [],
   "source": [
    "matrix_num = pd.DataFrame(data[num_list])"
   ]
  },
  {
   "cell_type": "code",
   "execution_count": 99,
   "metadata": {},
   "outputs": [],
   "source": [
    "matcor = matrix_num.corr()"
   ]
  },
  {
   "cell_type": "code",
   "execution_count": null,
   "metadata": {},
   "outputs": [],
   "source": [
    "sns.heatmap(matcor.round(2), cmap=sns.diverging_palette(240, 10, as_cmap=True), annot=True, annot_kws={\"size\": 5}, vmin=-1, vmax=1,center=0)\n",
    "plt.show()"
   ]
  },
  {
   "cell_type": "code",
   "execution_count": null,
   "metadata": {},
   "outputs": [],
   "source": [
    "# Ver cantidad de NAs en el dataset\n",
    "\n",
    "num_total_nans = data.isna().sum().sum()\n",
    "print(\"El número total de valores faltantes en el DataFrame es:\", num_total_nans)"
   ]
  },
  {
   "cell_type": "code",
   "execution_count": null,
   "metadata": {},
   "outputs": [],
   "source": [
    "# Ver la cantidad de correlaciones lineales entre variables mayores a 0.3\n",
    "\n",
    "triangulo_sup = matcor.where(np.triu(np.ones(matcor.shape), k=1).astype(bool))\n",
    "np.fill_diagonal(triangulo_sup.values, np.nan)\n",
    "num_relaciones_mayores_a_03 = (pd.DataFrame(triangulo_sup).abs() > 0.7).sum().sum()\n",
    "print(\"El número de relaciones mayores a 0.3 en la matriz de correlación, sin contar la diagonal, es:\", num_relaciones_mayores_a_03)"
   ]
  },
  {
   "cell_type": "code",
   "execution_count": null,
   "metadata": {},
   "outputs": [],
   "source": [
    "# Las 15 correlaciones mas fuertes\n",
    "\n",
    "matcor2 = matcor\n",
    "np.fill_diagonal(matcor2.values, 0)\n",
    "top_corr_pairs = matcor2.unstack().sort_values(ascending=False).drop_duplicates()[:20]\n",
    "top_corr_features = [(pair[0], pair[1], matcor2.loc[pair]) for pair in top_corr_pairs.index]\n",
    "for feature1, feature2, correlation in top_corr_features:\n",
    "    print(f\"{feature1} - {feature2}: {correlation.round(2)}\")"
   ]
  },
  {
   "cell_type": "code",
   "execution_count": null,
   "metadata": {},
   "outputs": [],
   "source": [
    "# Scatterplots de las relaciones lineales mas fuertes\n",
    "\n",
    "for relacion in top_corr_features:\n",
    "    counts = data.groupby([relacion[0], relacion[1]]).size().reset_index(name='count')\n",
    "    sns.scatterplot(data=counts, x=relacion[0], y=relacion[1], size = \"count\",legend=False)\n",
    "    plt.title(f'Scatter Plot of {relacion[0]} vs {relacion[1]}')\n",
    "    plt.xlabel(f\"{relacion[0]}\")\n",
    "    plt.ylabel(f'{relacion[1]}')\n",
    "\n",
    "    # Show the plot\n",
    "    plt.show()"
   ]
  },
  {
   "cell_type": "code",
   "execution_count": null,
   "metadata": {},
   "outputs": [],
   "source": [
    "# Correlaciones entre variables cualitativas\n",
    "\n",
    "from scipy.stats import chi2_contingency\n",
    "\n",
    "cant_relaciones = 0\n",
    "for i in range(len(cualitativas)):\n",
    "    for j in range(i + 1,len(cualitativas)):\n",
    "        contingency_table = pd.crosstab(data[cualitativas[i]], data[cualitativas[j]])\n",
    "        chi2, p_value, dof, expected = chi2_contingency(contingency_table)\n",
    "        print(f\"Test de correlacion entre {cualitativas[i]} - {cualitativas[j]}\")\n",
    "        print(\"Estadístico chi-cuadrado:\", chi2)\n",
    "        print(\"Valor p:\", p_value)\n",
    "        if (p_value < 0.05):\n",
    "            print(f\"Hay evidencia estadistica suficiente para afirmar que existe relación entre {cualitativas[i]} - {cualitativas[j]}\")\n",
    "            cant_relaciones += 1\n",
    "        print(\"\\n\")\n",
    "print(f\"Hay {cant_relaciones} relaciones entre variables cualitativas\")        "
   ]
  },
  {
   "cell_type": "code",
   "execution_count": null,
   "metadata": {},
   "outputs": [],
   "source": [
    "# Correlacion entre variables numericas y cualitativas\n",
    "\n",
    "from scipy.stats import f_oneway\n",
    "\n",
    "cant_relaciones = 0\n",
    "\n",
    "for cualitativa in cualitativas:\n",
    "    for numerica in num_list:\n",
    "        grupos = {}\n",
    "        for grupo, datos in data.groupby(data[cualitativa]):\n",
    "            grupos[grupo] = datos[numerica]\n",
    "        resultado_anova = f_oneway(*grupos.values())\n",
    "        if (resultado_anova[1] < 0.05):\n",
    "            print(f\"ANOVA para la variable cualitativa '{cualitativa}' y la variable numérica '{numerica}':\")\n",
    "            print(\"Estadístico F:\", resultado_anova[0])\n",
    "            print(\"Valor p:\", resultado_anova[1])\n",
    "            print(f\"Hay evidencia estadistica suficiente para afirmar que existe relación entre {cualitativa} - {numerica}\\n\")\n",
    "            cant_relaciones += 1\n",
    "\n",
    "print(f\"Hay {cant_relaciones} relaciones significativas entre cualitativas y cuantitativas\")\n"
   ]
  }
 ],
 "metadata": {
  "kernelspec": {
   "display_name": "Python 3.10.8 64-bit",
   "language": "python",
   "name": "python3"
  },
  "language_info": {
   "codemirror_mode": {
    "name": "ipython",
    "version": 3
   },
   "file_extension": ".py",
   "mimetype": "text/x-python",
   "name": "python",
   "nbconvert_exporter": "python",
   "pygments_lexer": "ipython3",
   "version": "3.10.8"
  },
  "orig_nbformat": 4,
  "vscode": {
   "interpreter": {
    "hash": "b0fa6594d8f4cbf19f97940f81e996739fb7646882a419484c72d19e05852a7e"
   }
  }
 },
 "nbformat": 4,
 "nbformat_minor": 2
}
